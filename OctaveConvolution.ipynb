{
 "cells": [
  {
   "cell_type": "code",
   "execution_count": 78,
   "metadata": {},
   "outputs": [],
   "source": [
    "import tensorflow as tf\n",
    "from tensorflow.keras.layers import Conv2D, AvgPool2D, ReLU, UpSampling2D, Add, Layer, Input"
   ]
  },
  {
   "cell_type": "code",
   "execution_count": 79,
   "metadata": {},
   "outputs": [],
   "source": [
    "class OctaveConvolution(Layer):\n",
    "    def __init__(self,c_out, kernel_size=3,strides=1,first=False, last=False):\n",
    "        super(OctaveConvolution, self).__init__()\n",
    "        alpha_out = 0.5\n",
    "        self.first = first\n",
    "        self.last = last\n",
    "        self.strides = strides\n",
    "        if self.last:\n",
    "            alpha_out = 0\n",
    "\n",
    "        l_l = h_l = int(alpha_out*c_out)\n",
    "        h_h = l_h = c_out - l_l\n",
    "\n",
    "        if self.strides>1:\n",
    "            self.reduce_low  = AvgPool2D(strides=self.strides)\n",
    "            self.reduce_high = AvgPool2D(strides=self.strides)\n",
    "\n",
    "        self.L2L = Conv2D(l_l,kernel_size=kernel_size,padding='same',use_bias=False)\n",
    "        self.H2L_pool = AvgPool2D(strides=2)\n",
    "        self.H2L = Conv2D(h_l,kernel_size=kernel_size,padding='same',use_bias=False)\n",
    "\n",
    "        self.H2H = Conv2D(h_h,kernel_size=kernel_size,padding='same',use_bias=False)\n",
    "        self.L2H = Conv2D(l_h,kernel_size=kernel_size,padding='same',use_bias=False)\n",
    "        self.L2H_up = UpSampling2D(size=(2,2))\n",
    "        \n",
    "    \n",
    "    def call(self, *args):\n",
    "        if self.first:\n",
    "            low_filter  = self.H2L(self.H2L_pool(args[0]))\n",
    "            high_filter = self.H2H(args[0])\n",
    "            return low_filter, high_filter\n",
    "        if self.last:\n",
    "            final_filter  = self.L2H_up(self.L2H(args[0])) + self.H2H(args[1])\n",
    "            return final_filter\n",
    "        low, high= args[0], args[1]\n",
    "        if self.strides>1:\n",
    "            low = self.reduce_low(args[0])\n",
    "            high = self.reduce_high(args[1])\n",
    "        low_filter  = self.L2L(low) + self.H2L(self.H2L_pool(high))\n",
    "        high_filter = self.L2H_up(self.L2H(low)) + self.H2H(high)\n",
    "\n",
    "        return low_filter, high_filter"
   ]
  },
  {
   "cell_type": "code",
   "execution_count": 80,
   "metadata": {},
   "outputs": [
    {
     "output_type": "stream",
     "name": "stdout",
     "text": "(None, 224, 224, 24) (None, 112, 112, 24)\n(None, 224, 224, 32) (None, 112, 112, 32)\n(None, 112, 112, 48) (None, 56, 56, 48)\n"
    }
   ],
   "source": [
    "inputs = Input(shape=(224,224,3))\n",
    "x_low, x_high = OctaveConvolution(48,3,1,True,False)(inputs)\n",
    "x_low, x_high = OctaveConvolution(64)(x_low, x_high)\n",
    "x_low, x_high = OctaveConvolution(96,strides=2)(x_low, x_high)\n",
    "outputs = OctaveConvolution(10,3,1,False,True)(x_low, x_high)"
   ]
  },
  {
   "cell_type": "code",
   "execution_count": 74,
   "metadata": {},
   "outputs": [],
   "source": [
    "model = tf.keras.Model(inputs, outputs)"
   ]
  },
  {
   "cell_type": "code",
   "execution_count": 75,
   "metadata": {},
   "outputs": [
    {
     "output_type": "stream",
     "name": "stdout",
     "text": "Model: \"model_5\"\n_________________________________________________________________\nLayer (type)                 Output Shape              Param #   \n=================================================================\ninput_23 (InputLayer)        [(None, 32, 32, 3)]       0         \n_________________________________________________________________\noctave_convolution_44 (Octav ((None, 16, 16, 24), (Non 1296      \n_________________________________________________________________\noctave_convolution_45 (Octav ((None, 16, 16, 32), (Non 27648     \n_________________________________________________________________\noctave_convolution_46 (Octav ((None, 8, 8, 48), (None, 55296     \n_________________________________________________________________\noctave_convolution_47 (Octav (None, 16, 16, 10)        8640      \n=================================================================\nTotal params: 92,880\nTrainable params: 92,880\nNon-trainable params: 0\n_________________________________________________________________\n"
    }
   ],
   "source": [
    "model.summary()"
   ]
  }
 ],
 "metadata": {
  "language_info": {
   "codemirror_mode": {
    "name": "ipython",
    "version": 3
   },
   "file_extension": ".py",
   "mimetype": "text/x-python",
   "name": "python",
   "nbconvert_exporter": "python",
   "pygments_lexer": "ipython3",
   "version": "3.7.6-final"
  },
  "orig_nbformat": 2,
  "kernelspec": {
   "name": "python37664bit4993cd7e75f34146bbc363d262bfde1b",
   "display_name": "Python 3.7.6 64-bit"
  }
 },
 "nbformat": 4,
 "nbformat_minor": 2
}