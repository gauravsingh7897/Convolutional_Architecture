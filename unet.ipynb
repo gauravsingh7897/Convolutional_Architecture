{
 "metadata": {
  "language_info": {
   "codemirror_mode": {
    "name": "ipython",
    "version": 3
   },
   "file_extension": ".py",
   "mimetype": "text/x-python",
   "name": "python",
   "nbconvert_exporter": "python",
   "pygments_lexer": "ipython3",
   "version": "3.7.6-final"
  },
  "orig_nbformat": 2,
  "kernelspec": {
   "name": "python3",
   "display_name": "Python 3",
   "language": "python"
  }
 },
 "nbformat": 4,
 "nbformat_minor": 2,
 "cells": [
  {
   "cell_type": "code",
   "execution_count": 1,
   "metadata": {},
   "outputs": [],
   "source": [
    "import tensorflow as tf\n",
    "from tensorflow.keras.layers import Input,Conv2D, MaxPooling2D, Conv2DTranspose, Concatenate, experimental"
   ]
  },
  {
   "cell_type": "code",
   "execution_count": 2,
   "metadata": {},
   "outputs": [
    {
     "output_type": "stream",
     "name": "stdout",
     "text": [
      "Model: \"functional_1\"\n__________________________________________________________________________________________________\nLayer (type)                    Output Shape         Param #     Connected to                     \n==================================================================================================\ninput (InputLayer)              [(None, 572, 572, 1) 0                                            \n__________________________________________________________________________________________________\nconv1 (Conv2D)                  (None, 570, 570, 64) 640         input[0][0]                      \n__________________________________________________________________________________________________\nconv2 (Conv2D)                  (None, 568, 568, 64) 36928       conv1[0][0]                      \n__________________________________________________________________________________________________\nmaxpool1 (MaxPooling2D)         (None, 284, 284, 64) 0           conv2[0][0]                      \n__________________________________________________________________________________________________\nconv3 (Conv2D)                  (None, 282, 282, 128 73856       maxpool1[0][0]                   \n__________________________________________________________________________________________________\nconv4 (Conv2D)                  (None, 280, 280, 128 147584      conv3[0][0]                      \n__________________________________________________________________________________________________\nmaxpool2 (MaxPooling2D)         (None, 140, 140, 128 0           conv4[0][0]                      \n__________________________________________________________________________________________________\nconv5 (Conv2D)                  (None, 138, 138, 256 295168      maxpool2[0][0]                   \n__________________________________________________________________________________________________\nconv6 (Conv2D)                  (None, 136, 136, 256 590080      conv5[0][0]                      \n__________________________________________________________________________________________________\nmaxpool3 (MaxPooling2D)         (None, 68, 68, 256)  0           conv6[0][0]                      \n__________________________________________________________________________________________________\nconv7 (Conv2D)                  (None, 66, 66, 512)  1180160     maxpool3[0][0]                   \n__________________________________________________________________________________________________\nconv8 (Conv2D)                  (None, 64, 64, 512)  2359808     conv7[0][0]                      \n__________________________________________________________________________________________________\nmaxpool4 (MaxPooling2D)         (None, 32, 32, 512)  0           conv8[0][0]                      \n__________________________________________________________________________________________________\nconv9 (Conv2D)                  (None, 30, 30, 1024) 4719616     maxpool4[0][0]                   \n__________________________________________________________________________________________________\nconv10 (Conv2D)                 (None, 28, 28, 1024) 9438208     conv9[0][0]                      \n__________________________________________________________________________________________________\nupsample1 (Conv2DTranspose)     (None, 56, 56, 512)  2097664     conv10[0][0]                     \n__________________________________________________________________________________________________\ncrop1 (CenterCrop)              (None, 56, 56, 512)  0           conv8[0][0]                      \n__________________________________________________________________________________________________\nconcat1 (Concatenate)           (None, 56, 56, 1024) 0           upsample1[0][0]                  \n                                                                 crop1[0][0]                      \n__________________________________________________________________________________________________\nconv11 (Conv2D)                 (None, 54, 54, 512)  4719104     concat1[0][0]                    \n__________________________________________________________________________________________________\nconv12 (Conv2D)                 (None, 52, 52, 512)  2359808     conv11[0][0]                     \n__________________________________________________________________________________________________\nupsample2 (Conv2DTranspose)     (None, 104, 104, 256 524544      conv12[0][0]                     \n__________________________________________________________________________________________________\ncrop2 (CenterCrop)              (None, 104, 104, 256 0           conv6[0][0]                      \n__________________________________________________________________________________________________\nconcat2 (Concatenate)           (None, 104, 104, 512 0           upsample2[0][0]                  \n                                                                 crop2[0][0]                      \n__________________________________________________________________________________________________\nconv13 (Conv2D)                 (None, 102, 102, 256 1179904     concat2[0][0]                    \n__________________________________________________________________________________________________\nconv14 (Conv2D)                 (None, 100, 100, 256 590080      conv13[0][0]                     \n__________________________________________________________________________________________________\nupsample3 (Conv2DTranspose)     (None, 200, 200, 128 131200      conv14[0][0]                     \n__________________________________________________________________________________________________\ncrop3 (CenterCrop)              (None, 200, 200, 128 0           conv4[0][0]                      \n__________________________________________________________________________________________________\nconcat3 (Concatenate)           (None, 200, 200, 256 0           upsample3[0][0]                  \n                                                                 crop3[0][0]                      \n__________________________________________________________________________________________________\nconv15 (Conv2D)                 (None, 198, 198, 128 295040      concat3[0][0]                    \n__________________________________________________________________________________________________\nconv16 (Conv2D)                 (None, 196, 196, 128 147584      conv15[0][0]                     \n__________________________________________________________________________________________________\nupsample4 (Conv2DTranspose)     (None, 392, 392, 64) 32832       conv16[0][0]                     \n__________________________________________________________________________________________________\ncrop4 (CenterCrop)              (None, 392, 392, 64) 0           conv2[0][0]                      \n__________________________________________________________________________________________________\nconcat4 (Concatenate)           (None, 392, 392, 128 0           upsample4[0][0]                  \n                                                                 crop4[0][0]                      \n__________________________________________________________________________________________________\nconv17 (Conv2D)                 (None, 390, 390, 64) 73792       concat4[0][0]                    \n__________________________________________________________________________________________________\nconv18 (Conv2D)                 (None, 388, 388, 64) 36928       conv17[0][0]                     \n__________________________________________________________________________________________________\nconv19 (Conv2D)                 (None, 388, 388, 2)  130         conv18[0][0]                     \n==================================================================================================\nTotal params: 31,030,658\nTrainable params: 31,030,658\nNon-trainable params: 0\n__________________________________________________________________________________________________\n"
     ]
    }
   ],
   "source": [
    "def unet_model():\n",
    "    \n",
    "    input = Input((572,572,1),name='input')\n",
    "    conv1 = Conv2D(64,3,activation='relu',name='conv1')(input)\n",
    "    conv2 = Conv2D(64,3,activation='relu',name='conv2')(conv1)\n",
    "    \n",
    "    maxpool1 = MaxPooling2D((2,2),name='maxpool1')(conv2)\n",
    "    conv3 = Conv2D(128,3,activation='relu',name='conv3')(maxpool1)\n",
    "    conv4 = Conv2D(128,3,activation='relu',name='conv4')(conv3)\n",
    "    \n",
    "    maxpool2 = MaxPooling2D((2,2),name='maxpool2')(conv4)\n",
    "    conv5 = Conv2D(256,3,activation='relu',name='conv5')(maxpool2)\n",
    "    conv6 = Conv2D(256,3,activation='relu',name='conv6')(conv5)\n",
    "    \n",
    "    maxpool3 = MaxPooling2D((2,2),name='maxpool3')(conv6)\n",
    "    conv7 = Conv2D(512,3,activation='relu',name='conv7')(maxpool3)\n",
    "    conv8 = Conv2D(512,3,activation='relu',name='conv8')(conv7) ##\n",
    "    \n",
    "    maxpool4 = MaxPooling2D((2,2),name='maxpool4')(conv8)\n",
    "    conv9 = Conv2D(1024,3,activation='relu',name='conv9')(maxpool4)\n",
    "    conv10 = Conv2D(1024,3,activation='relu',name='conv10')(conv9)\n",
    "    \n",
    "    upsample1 = Conv2DTranspose(512,2,strides=(2,2),name='upsample1')(conv10)\n",
    "    concat1 = Concatenate(axis=-1,name='concat1')([upsample1,experimental.preprocessing.CenterCrop(56,56,name='crop1')(conv8)])\n",
    "    conv11 = Conv2D(512,3,activation='relu',name='conv11')(concat1)\n",
    "    conv12 = Conv2D(512,3,activation='relu',name='conv12')(conv11)\n",
    "\n",
    "    upsample2 = Conv2DTranspose(256,2,strides=(2,2),name='upsample2')(conv12)\n",
    "    concat2 = Concatenate(axis=-1,name='concat2')([upsample2,experimental.preprocessing.CenterCrop(104,104,name='crop2')(conv6)])\n",
    "    conv13 = Conv2D(256,3,activation='relu',name='conv13')(concat2)\n",
    "    conv14 = Conv2D(256,3,activation='relu',name='conv14')(conv13)\n",
    "    \n",
    "    upsample3 = Conv2DTranspose(128,2,strides=(2,2),name='upsample3')(conv14)\n",
    "    concat3 = Concatenate(axis=-1,name='concat3')([upsample3,experimental.preprocessing.CenterCrop(200,200,name='crop3')(conv4)])\n",
    "    conv15 = Conv2D(128,3,activation='relu',name='conv15')(concat3)\n",
    "    conv16 = Conv2D(128,3,activation='relu',name='conv16')(conv15)\n",
    "    \n",
    "    upsample4 = Conv2DTranspose(64,2,strides=(2,2),name='upsample4')(conv16)\n",
    "    concat4 = Concatenate(axis=-1,name='concat4')([upsample4,experimental.preprocessing.CenterCrop(392,392,name='crop4')(conv2)])\n",
    "    conv17 = Conv2D(64,3,activation='relu',name='conv17')(concat4)\n",
    "    conv18 = Conv2D(64,3,activation='relu',name='conv18')(conv17)\n",
    "    \n",
    "    conv19 = Conv2D(2,1,name='conv19')(conv18)\n",
    "    model = tf.keras.Model(input,conv19)\n",
    "\n",
    "    return model\n",
    "\n",
    "model = unet_model()\n",
    "model.summary()"
   ]
  }
 ]
}