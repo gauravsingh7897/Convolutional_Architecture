{
 "cells": [
  {
   "cell_type": "code",
   "execution_count": 58,
   "metadata": {},
   "outputs": [],
   "source": [
    "import tensorflow as tf\n",
    "from tensorflow.keras.layers import Layer,DepthwiseConv2D, Conv2D, MaxPooling2D, BatchNormalization,LeakyReLU, Input, Flatten, Dense"
   ]
  },
  {
   "cell_type": "code",
   "execution_count": 100,
   "metadata": {},
   "outputs": [],
   "source": [
    "class bn_ac(Layer):\n",
    "    def __init__(self, trainable=True):\n",
    "        super(bn_ac, self).__init__(trainable=trainable)\n",
    "        self.bn = BatchNormalization()\n",
    "        self.ac = LeakyReLU()\n",
    "    \n",
    "    def call(self,input):\n",
    "        x = self.bn(input)\n",
    "        x = self.ac(x)\n",
    "        return x"
   ]
  },
  {
   "cell_type": "code",
   "execution_count": 101,
   "metadata": {},
   "outputs": [],
   "source": [
    "class MobBlock(Layer):\n",
    "    def __init__(self,input_channels,output_channels, trainable=True):\n",
    "        super(MobBlock,self).__init__(trainable=trainable)\n",
    "        self.input_channels = input_channels\n",
    "        self.output_channels = output_channels\n",
    "        self.conv1 = Conv2D(self.input_channels, kernel_size=(1, 1), padding='same', use_bias=False)\n",
    "        self.bn_ac1 = bn_ac()\n",
    "        self.depthwise1 = DepthwiseConv2D(kernel_size=(1,3), padding='same', use_bias=False)\n",
    "        self.bn_ac2 = bn_ac()\n",
    "        self.maxpool = MaxPooling2D(pool_size=(2,1), strides=(2,1))\n",
    "        self.depthwise2 = DepthwiseConv2D(kernel_size=(3,1), padding='same', use_bias=False)\n",
    "        self.bn_ac3 = bn_ac()\n",
    "        self.conv2 = Conv2D(self.output_channels, kernel_size=(2,1), strides=(1,2), padding='same', use_bias=False)\n",
    "    \n",
    "    def call(self, inputs):\n",
    "        x = self.conv1(inputs)\n",
    "        x = self.bn_ac1(x)\n",
    "        x = self.depthwise1(x)\n",
    "        x = self.bn_ac2(x)\n",
    "        x = self.maxpool(x)\n",
    "        x = self.depthwise2(x)\n",
    "        x = self.bn_ac3(x)\n",
    "        x = self.conv2(x)\n",
    "        return x"
   ]
  },
  {
   "cell_type": "code",
   "execution_count": 102,
   "metadata": {},
   "outputs": [],
   "source": [
    "class EfficientNet(tf.keras.Model):\n",
    "    def __init__(self,num_classes):\n",
    "        super(EfficientNet, self).__init__()\n",
    "        self.mob1 = MobBlock(32, 64)\n",
    "        self.mob2 = MobBlock(64, 128)\n",
    "        self.mob3 = MobBlock(128, 256)\n",
    "        self.flatten = Flatten()\n",
    "        self.dense = Dense(num_classes, activation='softmax')\n",
    "    \n",
    "    def call(self, inputs):\n",
    "        x = self.mob1(inputs)\n",
    "        x = self.mob2(x)\n",
    "        x = self.mob3(x)\n",
    "        x = self.flatten(x)\n",
    "        x = self.dense(x)\n",
    "        return x"
   ]
  },
  {
   "cell_type": "code",
   "execution_count": 103,
   "metadata": {},
   "outputs": [],
   "source": [
    "model = EfficientNet(100)"
   ]
  },
  {
   "cell_type": "code",
   "execution_count": 104,
   "metadata": {},
   "outputs": [],
   "source": [
    "model.build((None,224,224,3))"
   ]
  },
  {
   "cell_type": "code",
   "execution_count": 105,
   "metadata": {},
   "outputs": [
    {
     "output_type": "stream",
     "name": "stdout",
     "text": "Model: \"efficient_net_8\"\n_________________________________________________________________\nLayer (type)                 Output Shape              Param #   \n=================================================================\nmob_block_21 (MobBlock)      multiple                  4768      \n_________________________________________________________________\nmob_block_22 (MobBlock)      multiple                  21632     \n_________________________________________________________________\nmob_block_23 (MobBlock)      multiple                  84224     \n_________________________________________________________________\nflatten_8 (Flatten)          multiple                  0         \n_________________________________________________________________\ndense_8 (Dense)              multiple                  20070500  \n=================================================================\nTotal params: 20,181,124\nTrainable params: 20,179,780\nNon-trainable params: 1,344\n_________________________________________________________________\n"
    }
   ],
   "source": [
    "model.summary()"
   ]
  }
 ],
 "metadata": {
  "language_info": {
   "codemirror_mode": {
    "name": "ipython",
    "version": 3
   },
   "file_extension": ".py",
   "mimetype": "text/x-python",
   "name": "python",
   "nbconvert_exporter": "python",
   "pygments_lexer": "ipython3",
   "version": "3.7.6-final"
  },
  "orig_nbformat": 2,
  "kernelspec": {
   "name": "python37664bit4993cd7e75f34146bbc363d262bfde1b",
   "display_name": "Python 3.7.6 64-bit"
  }
 },
 "nbformat": 4,
 "nbformat_minor": 2
}