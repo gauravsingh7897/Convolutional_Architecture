{
 "cells": [
  {
   "cell_type": "code",
   "execution_count": 2,
   "metadata": {},
   "outputs": [],
   "source": [
    "from tensorflow.keras.layers import Input, Conv2D, Concatenate, MaxPool2D,\\\n",
    "     GlobalAvgPool2D, Activation\n",
    "import tensorflow as tf"
   ]
  },
  {
   "cell_type": "code",
   "execution_count": 105,
   "metadata": {},
   "outputs": [],
   "source": [
    "class Fire_Block(tf.keras.Model):\n",
    "    def __init__(self, squeeze_filters, expand_filters):\n",
    "        super(Fire_Block, self).__init__()\n",
    "        self.a1  =  Conv2D(squeeze_filters, kernel_size=1,activation='relu')\n",
    "        self.a2 = Conv2D(expand_filters, kernel_size=1, activation='relu')\n",
    "        self.a3 = Conv2D(expand_filters, kernel_size=3, padding='same', activation='relu')\n",
    "        self.concat = Concatenate()\n",
    "    \n",
    "    def call(self, inputs):\n",
    "        x = self.a1(inputs)\n",
    "        y = self.a2(x)\n",
    "        z = self.a3(x)\n",
    "        concat = self.concat([y,z])\n",
    "        return concat"
   ]
  },
  {
   "cell_type": "code",
   "execution_count": 106,
   "metadata": {},
   "outputs": [],
   "source": [
    "class SqueezeNet(tf.keras.Model):\n",
    "    def __init__(self):\n",
    "        super(SqueezeNet, self).__init__()\n",
    "        self.conv = Conv2D(96,7,strides=2, padding='same', activation='relu')\n",
    "        self.blocks = tf.keras.models.Sequential(name = 'SqueezeNet')\n",
    "        sq_ch = 16\n",
    "        ex_ch = 64\n",
    "        max_list = [0,4,9]\n",
    "        fire_list = [3,6,8]\n",
    "        for i in range(11):\n",
    "            if i in max_list:\n",
    "                self.blocks.add(MaxPool2D(3, strides=2, padding='same'))\n",
    "            else:\n",
    "                if i in fire_list:\n",
    "                    sq_ch = sq_ch  + 16\n",
    "                    ex_ch = ex_ch  + 64\n",
    "                self.blocks.add(Fire_Block(sq_ch, ex_ch))\n",
    "    \n",
    "        self.out = Conv2D(1000,1)\n",
    "        self.globalpool = GlobalAvgPool2D()\n",
    "        self.activation = Activation('softmax')\n",
    "\n",
    "    def call(self,inputs):\n",
    "        x = self.conv(inputs)\n",
    "        x = self.blocks(x)\n",
    "        x = self.out(x)\n",
    "        x = self.globalpool(x)\n",
    "        x = self.activation(x)\n",
    "\n",
    "        return x"
   ]
  },
  {
   "cell_type": "code",
   "execution_count": 107,
   "metadata": {},
   "outputs": [],
   "source": [
    "model = SqueezeNet()"
   ]
  },
  {
   "cell_type": "code",
   "execution_count": 108,
   "metadata": {},
   "outputs": [],
   "source": [
    "model.build(input_shape=(None, 224, 224, 3))"
   ]
  },
  {
   "cell_type": "code",
   "execution_count": 109,
   "metadata": {},
   "outputs": [
    {
     "output_type": "stream",
     "name": "stdout",
     "text": "Model: \"squeeze_net_31\"\n_________________________________________________________________\nLayer (type)                 Output Shape              Param #   \n=================================================================\nconv2d_721 (Conv2D)          multiple                  14208     \n_________________________________________________________________\nSqueezeNet (Sequential)      multiple                  721216    \n_________________________________________________________________\nconv2d_746 (Conv2D)          multiple                  513000    \n_________________________________________________________________\nglobal_average_pooling2d_27  multiple                  0         \n_________________________________________________________________\nactivation_27 (Activation)   multiple                  0         \n=================================================================\nTotal params: 1,248,424\nTrainable params: 1,248,424\nNon-trainable params: 0\n_________________________________________________________________\n"
    }
   ],
   "source": [
    "model.summary()"
   ]
  }
 ],
 "metadata": {
  "language_info": {
   "codemirror_mode": {
    "name": "ipython",
    "version": 3
   },
   "file_extension": ".py",
   "mimetype": "text/x-python",
   "name": "python",
   "nbconvert_exporter": "python",
   "pygments_lexer": "ipython3",
   "version": "3.7.6-final"
  },
  "orig_nbformat": 2,
  "kernelspec": {
   "name": "python37664bit4993cd7e75f34146bbc363d262bfde1b",
   "display_name": "Python 3.7.6 64-bit"
  }
 },
 "nbformat": 4,
 "nbformat_minor": 2
}